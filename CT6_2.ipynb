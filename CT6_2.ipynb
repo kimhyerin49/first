{
  "nbformat": 4,
  "nbformat_minor": 0,
  "metadata": {
    "colab": {
      "provenance": [],
      "authorship_tag": "ABX9TyNggZL3BwUXn9gPQE4rEOxj",
      "include_colab_link": true
    },
    "kernelspec": {
      "name": "python3",
      "display_name": "Python 3"
    },
    "language_info": {
      "name": "python"
    }
  },
  "cells": [
    {
      "cell_type": "markdown",
      "metadata": {
        "id": "view-in-github",
        "colab_type": "text"
      },
      "source": [
        "<a href=\"https://colab.research.google.com/github/kimhyerin49/first/blob/main/CT6_2.ipynb\" target=\"_parent\"><img src=\"https://colab.research.google.com/assets/colab-badge.svg\" alt=\"Open In Colab\"/></a>"
      ]
    },
    {
      "cell_type": "markdown",
      "source": [
        "학생 10명의 성적을 입력받아 평균을 계산하는 알고리즘을 의사코드로 표현해 보자"
      ],
      "metadata": {
        "id": "zeuQ7mJefBgF"
      }
    },
    {
      "cell_type": "code",
      "execution_count": 33,
      "metadata": {
        "id": "Do0zNbzEXRhl",
        "colab": {
          "base_uri": "https://localhost:8080/"
        },
        "outputId": "6ad545a3-3eb6-4c45-94c0-608e9ad513ce"
      },
      "outputs": [
        {
          "output_type": "stream",
          "name": "stdout",
          "text": [
            "정수를 입력하시오10\n",
            "정수를 입력하시오20\n",
            "정수를 입력하시오30\n",
            "정수를 입력하시오40\n",
            "정수를 입력하시오50\n",
            "정수를 입력하시오60\n",
            "정수를 입력하시오70\n",
            "정수를 입력하시오80\n",
            "정수를 입력하시오90\n",
            "정수를 입력하시오100\n",
            "55.0\n"
          ]
        }
      ],
      "source": [
        "total=0                                          # total의 값은 0에서 시작하라\n",
        "counter=1                                        # counter값은 1이다\n",
        "while counter<=10:                               # 10번 반복하라\n",
        "       grade=int(input(\"정수를 입력하시오\"))     # 정수를 정수로 입력하라\n",
        "       total=grade+total                         # total변수에 grade, total 합을 저장하라\n",
        "       counter=counter+91                        # 반복횟수를 저장하라\n",
        "average=total/10                                 # average변수에 total을 10을 나눈 평균값을 저장하라\n",
        "print (average)                                  # average값을 화면에 출력하라"
      ]
    }
  ]
}
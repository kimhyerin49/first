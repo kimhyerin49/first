{
  "nbformat": 4,
  "nbformat_minor": 0,
  "metadata": {
    "colab": {
      "provenance": [],
      "toc_visible": true,
      "authorship_tag": "ABX9TyPnMNxcBuM73EbDlXVgdo6w",
      "include_colab_link": true
    },
    "kernelspec": {
      "name": "python3",
      "display_name": "Python 3"
    },
    "language_info": {
      "name": "python"
    }
  },
  "cells": [
    {
      "cell_type": "markdown",
      "metadata": {
        "id": "view-in-github",
        "colab_type": "text"
      },
      "source": [
        "<a href=\"https://colab.research.google.com/github/kimhyerin49/first/blob/main/ct6_1.ipynb\" target=\"_parent\"><img src=\"https://colab.research.google.com/assets/colab-badge.svg\" alt=\"Open In Colab\"/></a>"
      ]
    },
    {
      "cell_type": "markdown",
      "source": [
        "사용자로부터 3개의 점수를 받아 평균을 계산하는 알고리즘과 이것을 구현한다."
      ],
      "metadata": {
        "id": "9EzYrsR_upK3"
      }
    },
    {
      "cell_type": "code",
      "execution_count": null,
      "metadata": {
        "id": "EgPUXI8juhs4"
      },
      "outputs": [],
      "source": [
        "n1=input(\"n1의 값을 입력하시오.:\") # 사용자에게 n1을 정수형으로 받아라\n",
        "n2=input(\"n1의 값을 입력하시오.:\") # 사용자에게 n2을 정수형으로 받아라\n",
        "n3=input(\"n1의 값을 입력하시오.:\") # 사용자에게 n3을 정수형으로 받아라\n",
        "total=n1+n2+n3                     # total변수에 n1,n2, n3의 합을 저장하라\n",
        "average=total/3                    # average변수에 total을 3을 나눈 평균값을 저장하라 \n",
        "print('합=' total, '평균='average) # 합과 변수 total, 평균과 변수 average값을 화면에 출력하라"
      ]
    }
  ]
}
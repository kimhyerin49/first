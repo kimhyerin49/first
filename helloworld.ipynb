{
  "nbformat": 4,
  "nbformat_minor": 0,
  "metadata": {
    "colab": {
      "provenance": [],
      "authorship_tag": "ABX9TyOAqmzPISb46UKXghdMHCHh",
      "include_colab_link": true
    },
    "kernelspec": {
      "name": "python3",
      "display_name": "Python 3"
    },
    "language_info": {
      "name": "python"
    }
  },
  "cells": [
    {
      "cell_type": "markdown",
      "metadata": {
        "id": "view-in-github",
        "colab_type": "text"
      },
      "source": [
        "<a href=\"https://colab.research.google.com/github/kimhyerin49/first/blob/main/helloworld.ipynb\" target=\"_parent\"><img src=\"https://colab.research.google.com/assets/colab-badge.svg\" alt=\"Open In Colab\"/></a>"
      ]
    },
    {
      "cell_type": "markdown",
      "source": [
        "1. 나의 생애 첫 코딩"
      ],
      "metadata": {
        "id": "Z6-wmHDXvOMf"
      }
    },
    {
      "cell_type": "code",
      "source": [
        "print(\"hello worid!\")\n",
        "print(5+4)\n",
        "print(\"5+4\")"
      ],
      "metadata": {
        "colab": {
          "base_uri": "https://localhost:8080/"
        },
        "id": "pWtk3TPlvL2u",
        "outputId": "70a63bf4-3e22-4de5-d450-284b692bc9ba"
      },
      "execution_count": 9,
      "outputs": [
        {
          "output_type": "stream",
          "name": "stdout",
          "text": [
            "hello worid!\n",
            "9\n",
            "5+4\n"
          ]
        }
      ]
    },
    {
      "cell_type": "code",
      "source": [],
      "metadata": {
        "id": "PfQ1Lt5TxFVm"
      },
      "execution_count": null,
      "outputs": []
    }
  ]
}